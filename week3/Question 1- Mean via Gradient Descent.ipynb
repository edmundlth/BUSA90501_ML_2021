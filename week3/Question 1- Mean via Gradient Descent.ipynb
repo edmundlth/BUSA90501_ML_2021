{
 "cells": [
  {
   "cell_type": "markdown",
   "id": "9db03988",
   "metadata": {},
   "source": [
    "----\n",
    "# Question 1: Compute mean with gradient descent\n",
    "Question statement: Suppose we have `N` numbers and we have to determine their mean. Develop a gradient descent rule to achieve this.\n",
    "\n",
    "----\n",
    "## Solution\n",
    "Let $N$ numbers be given $X = \\{X_1, \\dots, X_N\\}$. We wish to compute a guess to the mean $\\mu$ using gradient descent. \n",
    "\n",
    "\n",
    "To implement gradient descent, we need\n",
    " 1. **A loss function $L(\\mu)$**: Here we use the mean-squared error. \n",
    " $$L(x) = \\frac{1}{2}\\sum_{i = 1}^N (\\mu - X_i)^2$$\n",
    " Exercise: Prove that that the true mean $\\mu^*$ is the unique minimum of $L(\\mu)$. Hint: Just take first derivative and set it to zero. (Note, this is the same as proving that the maximum-likelihood estimator of the mean of a Gaussian distribution is the sample mean and is the same as the value that minimises the mean-square-error). \n",
    " 2. **Gradient of the loss function**: The loss function is a function of the single variable $\\mu$, so the gradient is just the derivative of $L$ with respect to $\\mu$, \n",
    " $$\\frac{d}{d\\mu} L(\\mu) = \\sum_{i = 1}^N (\\mu - X_i)$$\n",
    " 3. **Update rule**: Our new guess of $\\mu$ is updated by going in the opposite direction of the gradient by a step of length $\\eta$ (= learning rate). \n",
    " $$\\mu_{new} = \\mu_{previous} - \\eta * \\frac{d}{d\\mu} L(\\mu_{previous})$$\n",
    "----\n",
    "## Implementation"
   ]
  },
  {
   "cell_type": "code",
   "execution_count": 5,
   "id": "7060d1d5",
   "metadata": {},
   "outputs": [
    {
     "name": "stdout",
     "output_type": "stream",
     "text": [
      "Actual mean: 45.24\n"
     ]
    }
   ],
   "source": [
    "import numpy as np\n",
    "import matplotlib.pyplot as plt\n",
    "\n",
    "# Randomly generate data\n",
    "N = 100\n",
    "X = np.random.randint(1, 100, size=N)\n",
    "actual_mean = np.mean(X)\n",
    "print(f\"Actual mean: {actual_mean}\")"
   ]
  },
  {
   "cell_type": "markdown",
   "id": "56a0ba21",
   "metadata": {},
   "source": [
    "### Define the loss, gradient of the loss and the update rule. "
   ]
  },
  {
   "cell_type": "code",
   "execution_count": 6,
   "id": "8ba96665",
   "metadata": {},
   "outputs": [],
   "source": [
    "\n",
    "def loss(mu):\n",
    "    # Have to be differentiable\n",
    "    # We want this to be smallest when mu = actual mean. \n",
    "    # We also want this to have \"good\" gradient away from the actual mean.\n",
    "    return np.sum((mu - X) **2) / 2\n",
    "\n",
    "def grad(mu):\n",
    "    return np.sum(mu - X)\n",
    "\n",
    "def step(mu, step_size=0.0001):\n",
    "    # update mu according to the rule\n",
    "    # mu <- mu - step_size * gradient at mu\n",
    "    return mu - step_size * grad(mu)"
   ]
  },
  {
   "cell_type": "markdown",
   "id": "5b6fcec1",
   "metadata": {},
   "source": [
    "### Actually doing the gradient descent. \n"
   ]
  },
  {
   "cell_type": "code",
   "execution_count": 7,
   "id": "56f4f6c0",
   "metadata": {},
   "outputs": [
    {
     "name": "stdout",
     "output_type": "stream",
     "text": [
      "Epoch: 0\tCurrent guess: 34\tLoss: 49961.0\t\n",
      "Epoch: 100\tCurrent guess: 41.12579648408892\tLoss: 44490.453528516744\t\n",
      "Epoch: 200\tCurrent guess: 43.73406845459652\tLoss: 43757.51149097206\t\n",
      "Epoch: 300\tCurrent guess: 44.68878035063874\tLoss: 43659.3121550921\t\n",
      "Epoch: 400\tCurrent guess: 45.03823578118849\tLoss: 43646.15543999964\t\n",
      "Epoch: 500\tCurrent guess: 45.166147770603246\tLoss: 43644.39270758934\t\n",
      "Epoch: 600\tCurrent guess: 45.212967695565645\tLoss: 43644.15653727414\t\n",
      "Epoch: 700\tCurrent guess: 45.230105302317874\tLoss: 43644.12489525212\t\n",
      "Epoch: 800\tCurrent guess: 45.236378220641235\tLoss: 43644.120655864295\t\n",
      "Epoch: 900\tCurrent guess: 45.23867431162171\tLoss: 43644.120087872485\t\n",
      "Final guess: 45.239514755179115\n"
     ]
    },
    {
     "data": {
      "text/plain": [
       "[<matplotlib.lines.Line2D at 0x7fde4392d2e0>]"
      ]
     },
     "execution_count": 7,
     "metadata": {},
     "output_type": "execute_result"
    },
    {
     "data": {
      "image/png": "[encoded data removed]",
      "text/plain": [
       "<Figure size 432x288 with 1 Axes>"
      ]
     },
     "metadata": {
      "needs_background": "light"
     },
     "output_type": "display_data"
    }
   ],
   "source": [
    "\n",
    "num_epoch = 1000 # number of iteration of GD. \n",
    "mu = np.random.randint(1, 100)  # random initial guess. \n",
    "logging_rate = 100 # print out something every 100 iteration. \n",
    "\n",
    "loss_record = []\n",
    "for epoch in range(num_epoch):\n",
    "    \n",
    "    # We print out a record of where the optimisation is up to \n",
    "    # every logging_rate number of epoch\n",
    "    if epoch % logging_rate == 0:\n",
    "        print(f\"Epoch: {epoch}\\tCurrent guess: {mu}\\tLoss: {loss(mu)}\\t\")\n",
    "    mu = step(mu)\n",
    "    loss_record.append(loss(mu))\n",
    "print(f\"Final guess: {mu}\")\n",
    "\n",
    "# Plot how the loss decreases with epoch.\n",
    "plt.plot(loss_record)"
   ]
  },
  {
   "cell_type": "code",
   "execution_count": null,
   "id": "3e352879",
   "metadata": {},
   "outputs": [],
   "source": []
  }
 ],
 "metadata": {
  "kernelspec": {
   "display_name": "Python 3 (ipykernel)",
   "language": "python",
   "name": "python3"
  },
  "language_info": {
   "codemirror_mode": {
    "name": "ipython",
    "version": 3
   },
   "file_extension": ".py",
   "mimetype": "text/x-python",
   "name": "python",
   "nbconvert_exporter": "python",
   "pygments_lexer": "ipython3",
   "version": "3.8.10"
  }
 },
 "nbformat": 4,
 "nbformat_minor": 5
}
